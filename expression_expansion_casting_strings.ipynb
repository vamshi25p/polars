{
 "cells": [
  {
   "cell_type": "code",
   "execution_count": 1,
   "metadata": {},
   "outputs": [
    {
     "name": "stdout",
     "output_type": "stream",
     "text": [
      "shape: (5, 7)\n",
      "┌────────┬───────────────────┬────────┬──────────┬─────────┬───────────┬──────────┐\n",
      "│ ticker ┆ company_name      ┆ price  ┆ day_high ┆ day_low ┆ year_high ┆ year_low │\n",
      "│ ---    ┆ ---               ┆ ---    ┆ ---      ┆ ---     ┆ ---       ┆ ---      │\n",
      "│ str    ┆ str               ┆ f64    ┆ f64      ┆ f64     ┆ f64       ┆ f64      │\n",
      "╞════════╪═══════════════════╪════════╪══════════╪═════════╪═══════════╪══════════╡\n",
      "│ AAPL   ┆ Apple             ┆ 229.9  ┆ 231.31   ┆ 228.6   ┆ 237.23    ┆ 164.08   │\n",
      "│ NVDA   ┆ NVIDIA            ┆ 138.93 ┆ 139.6    ┆ 136.3   ┆ 140.76    ┆ 39.23    │\n",
      "│ MSFT   ┆ Microsoft         ┆ 420.56 ┆ 424.04   ┆ 417.52  ┆ 468.35    ┆ 324.39   │\n",
      "│ GOOG   ┆ Alphabet (Google) ┆ 166.41 ┆ 167.62   ┆ 164.78  ┆ 193.31    ┆ 121.46   │\n",
      "│ AMZN   ┆ Amazon            ┆ 188.4  ┆ 189.83   ┆ 188.44  ┆ 201.2     ┆ 118.35   │\n",
      "└────────┴───────────────────┴────────┴──────────┴─────────┴───────────┴──────────┘\n"
     ]
    }
   ],
   "source": [
    "import polars as pl\n",
    "\n",
    "df = pl.DataFrame(\n",
    "    {  # As of 14th October 2024, ~3pm UTC\n",
    "        \"ticker\": [\"AAPL\", \"NVDA\", \"MSFT\", \"GOOG\", \"AMZN\"],\n",
    "        \"company_name\": [\"Apple\", \"NVIDIA\", \"Microsoft\", \"Alphabet (Google)\", \"Amazon\"],\n",
    "        \"price\": [229.9, 138.93, 420.56, 166.41, 188.4],\n",
    "        \"day_high\": [231.31, 139.6, 424.04, 167.62, 189.83],\n",
    "        \"day_low\": [228.6, 136.3, 417.52, 164.78, 188.44],\n",
    "        \"year_high\": [237.23, 140.76, 468.35, 193.31, 201.2],\n",
    "        \"year_low\": [164.08, 39.23, 324.39, 121.46, 118.35],\n",
    "    }\n",
    ")\n",
    "\n",
    "print(df)"
   ]
  },
  {
   "cell_type": "code",
   "execution_count": 2,
   "metadata": {},
   "outputs": [
    {
     "name": "stdout",
     "output_type": "stream",
     "text": [
      "shape: (5, 7)\n",
      "┌────────┬───────────────────┬────────┬──────────┬─────────┬───────────┬──────────┐\n",
      "│ ticker ┆ company_name      ┆ price  ┆ day_high ┆ day_low ┆ year_high ┆ year_low │\n",
      "│ ---    ┆ ---               ┆ ---    ┆ ---      ┆ ---     ┆ ---       ┆ ---      │\n",
      "│ str    ┆ str               ┆ f64    ┆ f64      ┆ f64     ┆ f64       ┆ f64      │\n",
      "╞════════╪═══════════════════╪════════╪══════════╪═════════╪═══════════╪══════════╡\n",
      "│ AAPL   ┆ Apple             ┆ 210.92 ┆ 212.21   ┆ 209.72  ┆ 217.64    ┆ 150.53   │\n",
      "│ NVDA   ┆ NVIDIA            ┆ 127.46 ┆ 128.07   ┆ 125.05  ┆ 129.14    ┆ 35.99    │\n",
      "│ MSFT   ┆ Microsoft         ┆ 385.83 ┆ 389.03   ┆ 383.05  ┆ 429.68    ┆ 297.61   │\n",
      "│ GOOG   ┆ Alphabet (Google) ┆ 152.67 ┆ 153.78   ┆ 151.17  ┆ 177.35    ┆ 111.43   │\n",
      "│ AMZN   ┆ Amazon            ┆ 172.84 ┆ 174.16   ┆ 172.88  ┆ 184.59    ┆ 108.58   │\n",
      "└────────┴───────────────────┴────────┴──────────┴─────────┴───────────┴──────────┘\n"
     ]
    }
   ],
   "source": [
    "eur_usd_rate=1.09 \n",
    "result=df.with_columns(\n",
    "    (\n",
    "        pl.col(\"price\",\"day_high\",\"day_low\",\"year_high\",\"year_low\",)/eur_usd_rate \n",
    "    ).round(2)\n",
    ")\n",
    "\n",
    "print(result)"
   ]
  },
  {
   "cell_type": "code",
   "execution_count": 3,
   "metadata": {},
   "outputs": [
    {
     "name": "stdout",
     "output_type": "stream",
     "text": [
      "True\n"
     ]
    }
   ],
   "source": [
    "exprs = [\n",
    "    (pl.col(\"price\") / eur_usd_rate).round(2),\n",
    "    (pl.col(\"day_high\") / eur_usd_rate).round(2),\n",
    "    (pl.col(\"day_low\") / eur_usd_rate).round(2),\n",
    "    (pl.col(\"year_high\") / eur_usd_rate).round(2),\n",
    "    (pl.col(\"year_low\") / eur_usd_rate).round(2),\n",
    "]\n",
    "\n",
    "result2 = df.with_columns(exprs)\n",
    "print(result.equals(result2))"
   ]
  },
  {
   "cell_type": "code",
   "execution_count": 4,
   "metadata": {},
   "outputs": [
    {
     "name": "stdout",
     "output_type": "stream",
     "text": [
      "shape: (5, 7)\n",
      "┌────────┬───────────────────┬────────┬──────────┬─────────┬───────────┬──────────┐\n",
      "│ ticker ┆ company_name      ┆ price  ┆ day_high ┆ day_low ┆ year_high ┆ year_low │\n",
      "│ ---    ┆ ---               ┆ ---    ┆ ---      ┆ ---     ┆ ---       ┆ ---      │\n",
      "│ str    ┆ str               ┆ f64    ┆ f64      ┆ f64     ┆ f64       ┆ f64      │\n",
      "╞════════╪═══════════════════╪════════╪══════════╪═════════╪═══════════╪══════════╡\n",
      "│ AAPL   ┆ Apple             ┆ 210.92 ┆ 212.21   ┆ 209.72  ┆ 217.64    ┆ 150.53   │\n",
      "│ NVDA   ┆ NVIDIA            ┆ 127.46 ┆ 128.07   ┆ 125.05  ┆ 129.14    ┆ 35.99    │\n",
      "│ MSFT   ┆ Microsoft         ┆ 385.83 ┆ 389.03   ┆ 383.05  ┆ 429.68    ┆ 297.61   │\n",
      "│ GOOG   ┆ Alphabet (Google) ┆ 152.67 ┆ 153.78   ┆ 151.17  ┆ 177.35    ┆ 111.43   │\n",
      "│ AMZN   ┆ Amazon            ┆ 172.84 ┆ 174.16   ┆ 172.88  ┆ 184.59    ┆ 108.58   │\n",
      "└────────┴───────────────────┴────────┴──────────┴─────────┴───────────┴──────────┘\n"
     ]
    }
   ],
   "source": [
    "res=df.with_columns((pl.col(pl.Float64)/eur_usd_rate).round(2))\n",
    "print(res)"
   ]
  },
  {
   "cell_type": "code",
   "execution_count": 5,
   "metadata": {},
   "outputs": [
    {
     "name": "stdout",
     "output_type": "stream",
     "text": [
      "True\n"
     ]
    }
   ],
   "source": [
    "result=df.select(pl.all())\n",
    "print(result.equals(df))"
   ]
  },
  {
   "cell_type": "code",
   "execution_count": 6,
   "metadata": {},
   "outputs": [
    {
     "name": "stdout",
     "output_type": "stream",
     "text": [
      "shape: (5, 7)\n",
      "┌────────┬───────────────────┬────────┬──────────┬─────────┬───────────┬──────────┐\n",
      "│ TICKER ┆ COMPANY_NAME      ┆ PRICE  ┆ DAY_HIGH ┆ DAY_LOW ┆ YEAR_HIGH ┆ YEAR_LOW │\n",
      "│ ---    ┆ ---               ┆ ---    ┆ ---      ┆ ---     ┆ ---       ┆ ---      │\n",
      "│ str    ┆ str               ┆ f64    ┆ f64      ┆ f64     ┆ f64       ┆ f64      │\n",
      "╞════════╪═══════════════════╪════════╪══════════╪═════════╪═══════════╪══════════╡\n",
      "│ AAPL   ┆ Apple             ┆ 229.9  ┆ 231.31   ┆ 228.6   ┆ 237.23    ┆ 164.08   │\n",
      "│ NVDA   ┆ NVIDIA            ┆ 138.93 ┆ 139.6    ┆ 136.3   ┆ 140.76    ┆ 39.23    │\n",
      "│ MSFT   ┆ Microsoft         ┆ 420.56 ┆ 424.04   ┆ 417.52  ┆ 468.35    ┆ 324.39   │\n",
      "│ GOOG   ┆ Alphabet (Google) ┆ 166.41 ┆ 167.62   ┆ 164.78  ┆ 193.31    ┆ 121.46   │\n",
      "│ AMZN   ┆ Amazon            ┆ 188.4  ┆ 189.83   ┆ 188.44  ┆ 201.2     ┆ 118.35   │\n",
      "└────────┴───────────────────┴────────┴──────────┴─────────┴───────────┴──────────┘\n"
     ]
    }
   ],
   "source": [
    "result=df.select(pl.all().name.map(str.upper))\n",
    "print(result)"
   ]
  },
  {
   "cell_type": "code",
   "execution_count": 7,
   "metadata": {},
   "outputs": [
    {
     "name": "stdout",
     "output_type": "stream",
     "text": [
      "shape: (5, 4)\n",
      "┌────────┬───────────────────┬─────────┬──────────┐\n",
      "│ ticker ┆ company_name      ┆ day_low ┆ year_low │\n",
      "│ ---    ┆ ---               ┆ ---     ┆ ---      │\n",
      "│ str    ┆ str               ┆ f64     ┆ f64      │\n",
      "╞════════╪═══════════════════╪═════════╪══════════╡\n",
      "│ AAPL   ┆ Apple             ┆ 228.6   ┆ 164.08   │\n",
      "│ NVDA   ┆ NVIDIA            ┆ 136.3   ┆ 39.23    │\n",
      "│ MSFT   ┆ Microsoft         ┆ 417.52  ┆ 324.39   │\n",
      "│ GOOG   ┆ Alphabet (Google) ┆ 164.78  ┆ 121.46   │\n",
      "│ AMZN   ┆ Amazon            ┆ 188.44  ┆ 118.35   │\n",
      "└────────┴───────────────────┴─────────┴──────────┘\n"
     ]
    }
   ],
   "source": [
    "import polars.selectors as cs\n",
    "\n",
    "result = df.select(cs.string() | cs.ends_with(\"_low\"))\n",
    "print(result)"
   ]
  },
  {
   "cell_type": "code",
   "execution_count": 8,
   "metadata": {},
   "outputs": [
    {
     "name": "stdout",
     "output_type": "stream",
     "text": [
      "shape: (5, 4)\n",
      "┌──────────┬─────────┬───────────┬──────────┐\n",
      "│ day_high ┆ day_low ┆ year_high ┆ year_low │\n",
      "│ ---      ┆ ---     ┆ ---       ┆ ---      │\n",
      "│ f64      ┆ f64     ┆ f64       ┆ f64      │\n",
      "╞══════════╪═════════╪═══════════╪══════════╡\n",
      "│ 231.31   ┆ 228.6   ┆ 237.23    ┆ 164.08   │\n",
      "│ 139.6    ┆ 136.3   ┆ 140.76    ┆ 39.23    │\n",
      "│ 424.04   ┆ 417.52  ┆ 468.35    ┆ 324.39   │\n",
      "│ 167.62   ┆ 164.78  ┆ 193.31    ┆ 121.46   │\n",
      "│ 189.83   ┆ 188.44  ┆ 201.2     ┆ 118.35   │\n",
      "└──────────┴─────────┴───────────┴──────────┘\n"
     ]
    }
   ],
   "source": [
    "result=df.select(cs.contains(\"_\")-cs.string())\n",
    "print(result)"
   ]
  },
  {
   "cell_type": "code",
   "execution_count": 9,
   "metadata": {},
   "outputs": [
    {
     "name": "stdout",
     "output_type": "stream",
     "text": [
      "shape: (3, 3)\n",
      "┌──────────┬──────────────┬────────┐\n",
      "│ integers ┆ big_integers ┆ floats │\n",
      "│ ---      ┆ ---          ┆ ---    │\n",
      "│ i64      ┆ i64          ┆ f64    │\n",
      "╞══════════╪══════════════╪════════╡\n",
      "│ 1        ┆ 10000002     ┆ 4.0    │\n",
      "│ 2        ┆ 2            ┆ 5.8    │\n",
      "│ 3        ┆ 30000003     ┆ -6.3   │\n",
      "└──────────┴──────────────┴────────┘\n"
     ]
    }
   ],
   "source": [
    "import polars as pl\n",
    "\n",
    "df = pl.DataFrame(\n",
    "    {\n",
    "        \"integers\": [1, 2, 3],\n",
    "        \"big_integers\": [10000002, 2, 30000003],\n",
    "        \"floats\": [4.0, 5.8, -6.3],\n",
    "    }\n",
    ")\n",
    "\n",
    "print(df)"
   ]
  },
  {
   "cell_type": "code",
   "execution_count": 10,
   "metadata": {},
   "outputs": [
    {
     "name": "stdout",
     "output_type": "stream",
     "text": [
      "shape: (3, 2)\n",
      "┌────────────────────┬────────────────────┐\n",
      "│ integers_as_floats ┆ floats_as_integers │\n",
      "│ ---                ┆ ---                │\n",
      "│ f32                ┆ i32                │\n",
      "╞════════════════════╪════════════════════╡\n",
      "│ 1.0                ┆ 4                  │\n",
      "│ 2.0                ┆ 5                  │\n",
      "│ 3.0                ┆ -6                 │\n",
      "└────────────────────┴────────────────────┘\n"
     ]
    }
   ],
   "source": [
    "result=df.select(\n",
    "    pl.col(\"integers\").cast(pl.Float32).alias(\"integers_as_floats\"),\n",
    "    pl.col(\"floats\").cast(pl.Int32).alias(\"floats_as_integers\")\n",
    ")\n",
    "\n",
    "print(result)"
   ]
  },
  {
   "cell_type": "code",
   "execution_count": 11,
   "metadata": {},
   "outputs": [
    {
     "name": "stdout",
     "output_type": "stream",
     "text": [
      "Before downcasting: 72 bytes\n",
      "After downcasting: 42 bytes\n"
     ]
    }
   ],
   "source": [
    "print(f\"Before downcasting: {df.estimated_size()} bytes\")\n",
    "result = df.with_columns(\n",
    "    pl.col(\"integers\").cast(pl.Int16),\n",
    "    pl.col(\"floats\").cast(pl.Float32),\n",
    ")\n",
    "print(f\"After downcasting: {result.estimated_size()} bytes\")"
   ]
  },
  {
   "cell_type": "code",
   "execution_count": 12,
   "metadata": {},
   "outputs": [
    {
     "name": "stdout",
     "output_type": "stream",
     "text": [
      "shape: (4, 4)\n",
      "┌────────────┬─────────┬────────────┬──────────────┐\n",
      "│ language   ┆ fruit   ┆ byte_count ┆ letter_count │\n",
      "│ ---        ┆ ---     ┆ ---        ┆ ---          │\n",
      "│ str        ┆ str     ┆ u32        ┆ u32          │\n",
      "╞════════════╪═════════╪════════════╪══════════════╡\n",
      "│ English    ┆ pear    ┆ 4          ┆ 4            │\n",
      "│ Dutch      ┆ peer    ┆ 4          ┆ 4            │\n",
      "│ Portuguese ┆ pêra    ┆ 5          ┆ 4            │\n",
      "│ Finish     ┆ päärynä ┆ 10         ┆ 7            │\n",
      "└────────────┴─────────┴────────────┴──────────────┘\n"
     ]
    }
   ],
   "source": [
    "import polars as pl\n",
    "\n",
    "df = pl.DataFrame(\n",
    "    {\n",
    "        \"language\": [\"English\", \"Dutch\", \"Portuguese\", \"Finish\"],\n",
    "        \"fruit\": [\"pear\", \"peer\", \"pêra\", \"päärynä\"],\n",
    "    }\n",
    ")\n",
    "\n",
    "result = df.with_columns(\n",
    "    pl.col(\"fruit\").str.len_bytes().alias(\"byte_count\"),\n",
    "    pl.col(\"fruit\").str.len_chars().alias(\"letter_count\"),\n",
    ")\n",
    "print(result)"
   ]
  },
  {
   "cell_type": "code",
   "execution_count": 13,
   "metadata": {},
   "outputs": [
    {
     "name": "stdout",
     "output_type": "stream",
     "text": [
      "shape: (3, 1)\n",
      "┌──────┐\n",
      "│ urls │\n",
      "│ ---  │\n",
      "│ str  │\n",
      "╞══════╡\n",
      "│ 1234 │\n",
      "│ 4567 │\n",
      "│ 8901 │\n",
      "└──────┘\n"
     ]
    }
   ],
   "source": [
    "df=pl.DataFrame(\n",
    "    {\n",
    "        \"urls\":[\n",
    "            \"https://github.com/vamshi25p/1234\",\n",
    "            \"https://github.com/vamshi25p/4567\",\n",
    "            \"https://github.com/vamshi25p/8901\",\n",
    "        ]\n",
    "    }\n",
    ")\n",
    "\n",
    "result=df.select(\n",
    "    pl.col(\"urls\").str.extract(r\"vamshi25p/(\\w+)\",group_index=1)\n",
    ")\n",
    "print(result)"
   ]
  },
  {
   "cell_type": "code",
   "execution_count": 3,
   "metadata": {},
   "outputs": [
    {
     "name": "stdout",
     "output_type": "stream",
     "text": [
      "shape: (4, 4)\n",
      "┌───────────┬───────────┬───────────┬───────────┐\n",
      "│ Originals ┆ names     ┆ lower     ┆ upper     │\n",
      "│ ---       ┆ ---       ┆ ---       ┆ ---       │\n",
      "│ str       ┆ str       ┆ str       ┆ str       │\n",
      "╞═══════════╪═══════════╪═══════════╪═══════════╡\n",
      "│ CRicket   ┆ Cricket   ┆ cricket   ┆ CRICKET   │\n",
      "│ BadminTon ┆ Badminton ┆ badminton ┆ BADMINTON │\n",
      "│ ChEss     ┆ Chess     ┆ chess     ┆ CHESS     │\n",
      "│ FootBall  ┆ Football  ┆ football  ┆ FOOTBALL  │\n",
      "└───────────┴───────────┴───────────┴───────────┘\n"
     ]
    }
   ],
   "source": [
    "import polars as pl\n",
    "games=pl.DataFrame({\n",
    "    \"names\":[\n",
    "        \"CRicket\",\n",
    "        \"BadminTon\",\n",
    "        \"ChEss\",\n",
    "        \"FootBall\"\n",
    "    ]\n",
    "})\n",
    "\n",
    "games=games.select(\n",
    "    pl.col(\"names\").alias(\"Originals\"),\n",
    "    pl.col(\"names\").str.to_titlecase(),\n",
    "    pl.col(\"names\").str.to_lowercase().alias(\"lower\"),\n",
    "    pl.col(\"names\").str.to_uppercase().alias(\"upper\"),\n",
    ")\n",
    "\n",
    "print(games)"
   ]
  },
  {
   "cell_type": "code",
   "execution_count": 4,
   "metadata": {},
   "outputs": [
    {
     "name": "stdout",
     "output_type": "stream",
     "text": [
      "shape: (4, 5)\n",
      "┌──────────────┬─────┬─────────┬──────────┬──────────┐\n",
      "│ fruits       ┆ n   ┆ slice   ┆ head     ┆ tail     │\n",
      "│ ---          ┆ --- ┆ ---     ┆ ---      ┆ ---      │\n",
      "│ str          ┆ i64 ┆ str     ┆ str      ┆ str      │\n",
      "╞══════════════╪═════╪═════════╪══════════╪══════════╡\n",
      "│ pear         ┆ 1   ┆ ear     ┆ p        ┆ r        │\n",
      "│ mango        ┆ -1  ┆ o       ┆ mang     ┆ ango     │\n",
      "│ dragonfruit  ┆ 4   ┆ onfruit ┆ drag     ┆ ruit     │\n",
      "│ passionfruit ┆ -4  ┆ ruit    ┆ passionf ┆ ionfruit │\n",
      "└──────────────┴─────┴─────────┴──────────┴──────────┘\n"
     ]
    }
   ],
   "source": [
    "df = pl.DataFrame(\n",
    "    {\n",
    "        \"fruits\": [\"pear\", \"mango\", \"dragonfruit\", \"passionfruit\"],\n",
    "        \"n\": [1, -1, 4, -4],\n",
    "    }\n",
    ")\n",
    "\n",
    "result = df.with_columns(\n",
    "    pl.col(\"fruits\").str.slice(pl.col(\"n\")).alias(\"slice\"),\n",
    "    pl.col(\"fruits\").str.head(pl.col(\"n\")).alias(\"head\"),\n",
    "    pl.col(\"fruits\").str.tail(pl.col(\"n\")).alias(\"tail\"),\n",
    ")\n",
    "print(result)"
   ]
  },
  {
   "cell_type": "code",
   "execution_count": null,
   "metadata": {},
   "outputs": [],
   "source": []
  }
 ],
 "metadata": {
  "kernelspec": {
   "display_name": "Python 3",
   "language": "python",
   "name": "python3"
  },
  "language_info": {
   "codemirror_mode": {
    "name": "ipython",
    "version": 3
   },
   "file_extension": ".py",
   "mimetype": "text/x-python",
   "name": "python",
   "nbconvert_exporter": "python",
   "pygments_lexer": "ipython3",
   "version": "3.13.1"
  }
 },
 "nbformat": 4,
 "nbformat_minor": 2
}
