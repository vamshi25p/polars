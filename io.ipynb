{
 "cells": [
  {
   "cell_type": "code",
   "execution_count": 2,
   "metadata": {},
   "outputs": [],
   "source": [
    "import polars as pl\n",
    "\n",
    "\n",
    "df=pl.read_csv(\"outputs/output-basic.csv\")"
   ]
  },
  {
   "cell_type": "code",
   "execution_count": 3,
   "metadata": {},
   "outputs": [
    {
     "name": "stdout",
     "output_type": "stream",
     "text": [
      "shape: (4, 4)\n",
      "┌────────┬────────────┬────────┬────────┐\n",
      "│ name   ┆ birthdate  ┆ weight ┆ height │\n",
      "│ ---    ┆ ---        ┆ ---    ┆ ---    │\n",
      "│ str    ┆ str        ┆ i64    ┆ f64    │\n",
      "╞════════╪════════════╪════════╪════════╡\n",
      "│ Vamshi ┆ 2003-10-14 ┆ 50     ┆ 6.1    │\n",
      "│ Ajay   ┆ 2003-01-01 ┆ 60     ┆ 6.0    │\n",
      "│ Mahesh ┆ 2003-01-01 ┆ 70     ┆ 5.9    │\n",
      "│ Yatish ┆ 2003-01-01 ┆ 80     ┆ 5.8    │\n",
      "└────────┴────────────┴────────┴────────┘\n"
     ]
    }
   ],
   "source": [
    "print(df)"
   ]
  },
  {
   "cell_type": "code",
   "execution_count": 4,
   "metadata": {},
   "outputs": [],
   "source": [
    "df=pl.DataFrame({\n",
    "    \"numbers\":[2,3,4],\n",
    "    \"types\":[\"Even\",\"Odd\",\"Even Perfect Square\"],\n",
    "})"
   ]
  },
  {
   "cell_type": "code",
   "execution_count": 5,
   "metadata": {},
   "outputs": [],
   "source": [
    "df.write_csv(\"outputs/output_numbers.csv\")"
   ]
  },
  {
   "cell_type": "code",
   "execution_count": 6,
   "metadata": {},
   "outputs": [
    {
     "name": "stdout",
     "output_type": "stream",
     "text": [
      "shape: (3, 2)\n",
      "┌─────────┬─────────────────────┐\n",
      "│ numbers ┆ types               │\n",
      "│ ---     ┆ ---                 │\n",
      "│ i64     ┆ str                 │\n",
      "╞═════════╪═════════════════════╡\n",
      "│ 2       ┆ Even                │\n",
      "│ 3       ┆ Odd                 │\n",
      "│ 4       ┆ Even Perfect Square │\n",
      "└─────────┴─────────────────────┘\n"
     ]
    }
   ],
   "source": [
    "print(pl.read_csv(\"outputs/output_numbers.csv\"))"
   ]
  },
  {
   "cell_type": "code",
   "execution_count": 7,
   "metadata": {},
   "outputs": [],
   "source": [
    "df=pl.scan_csv(\"outputs/output_numbers.csv\")"
   ]
  },
  {
   "cell_type": "code",
   "execution_count": 8,
   "metadata": {},
   "outputs": [
    {
     "name": "stdout",
     "output_type": "stream",
     "text": [
      "naive plan: (run LazyFrame.explain(optimized=True) to see the optimized plan)\n",
      "\n",
      "Csv SCAN [outputs/output_numbers.csv]\n",
      "PROJECT */2 COLUMNS\n"
     ]
    }
   ],
   "source": [
    "print(df)"
   ]
  },
  {
   "cell_type": "code",
   "execution_count": 9,
   "metadata": {},
   "outputs": [
    {
     "data": {
      "text/plain": [
       "'Csv SCAN [outputs/output_numbers.csv]\\nPROJECT */2 COLUMNS'"
      ]
     },
     "execution_count": 9,
     "metadata": {},
     "output_type": "execute_result"
    }
   ],
   "source": [
    "df.explain(optimized=True)"
   ]
  },
  {
   "cell_type": "code",
   "execution_count": 10,
   "metadata": {},
   "outputs": [
    {
     "name": "stdout",
     "output_type": "stream",
     "text": [
      "Requirement already satisfied: fastexcel in c:\\users\\csinvapa\\appdata\\local\\programs\\python\\python313\\lib\\site-packages (0.12.1)\n",
      "Requirement already satisfied: xlsx2csv in c:\\users\\csinvapa\\appdata\\local\\programs\\python\\python313\\lib\\site-packages (0.8.4)\n",
      "Requirement already satisfied: openpyxl in c:\\users\\csinvapa\\appdata\\local\\programs\\python\\python313\\lib\\site-packages (3.1.5)\n",
      "Requirement already satisfied: pyarrow>=8.0.0 in c:\\users\\csinvapa\\appdata\\local\\programs\\python\\python313\\lib\\site-packages (from fastexcel) (19.0.0)\n",
      "Requirement already satisfied: et-xmlfile in c:\\users\\csinvapa\\appdata\\local\\programs\\python\\python313\\lib\\site-packages (from openpyxl) (2.0.0)\n",
      "Note: you may need to restart the kernel to use updated packages.\n"
     ]
    }
   ],
   "source": [
    "pip install fastexcel xlsx2csv openpyxl"
   ]
  },
  {
   "cell_type": "code",
   "execution_count": 1,
   "metadata": {},
   "outputs": [
    {
     "ename": "NameError",
     "evalue": "name 'pl' is not defined",
     "output_type": "error",
     "traceback": [
      "\u001b[1;31m---------------------------------------------------------------------------\u001b[0m",
      "\u001b[1;31mNameError\u001b[0m                                 Traceback (most recent call last)",
      "Cell \u001b[1;32mIn[1], line 1\u001b[0m\n\u001b[1;32m----> 1\u001b[0m df\u001b[38;5;241m=\u001b[39m\u001b[43mpl\u001b[49m\u001b[38;5;241m.\u001b[39mread_excel(\u001b[38;5;124m\"\u001b[39m\u001b[38;5;124minput_files/iris.xlsx\u001b[39m\u001b[38;5;124m\"\u001b[39m)\n",
      "\u001b[1;31mNameError\u001b[0m: name 'pl' is not defined"
     ]
    }
   ],
   "source": [
    "df=pl.read_excel(\"input_files/iris.xlsx\")"
   ]
  },
  {
   "cell_type": "code",
   "execution_count": 1,
   "metadata": {},
   "outputs": [
    {
     "name": "stdout",
     "output_type": "stream",
     "text": [
      "Requirement already satisfied: pyarrow in c:\\users\\csinvapa\\appdata\\local\\programs\\python\\python313\\lib\\site-packages (19.0.0)\n",
      "Note: you may need to restart the kernel to use updated packages.\n"
     ]
    }
   ],
   "source": [
    "pip install pyarrow"
   ]
  },
  {
   "cell_type": "code",
   "execution_count": null,
   "metadata": {},
   "outputs": [],
   "source": []
  }
 ],
 "metadata": {
  "kernelspec": {
   "display_name": "Python 3",
   "language": "python",
   "name": "python3"
  },
  "language_info": {
   "codemirror_mode": {
    "name": "ipython",
    "version": 3
   },
   "file_extension": ".py",
   "mimetype": "text/x-python",
   "name": "python",
   "nbconvert_exporter": "python",
   "pygments_lexer": "ipython3",
   "version": "3.13.1"
  }
 },
 "nbformat": 4,
 "nbformat_minor": 2
}
