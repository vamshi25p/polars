{
 "cells": [
  {
   "cell_type": "code",
   "execution_count": 31,
   "metadata": {},
   "outputs": [
    {
     "name": "stdout",
     "output_type": "stream",
     "text": [
      "shape: (4, 4)\n",
      "┌────────┬────────────┬────────┬────────┐\n",
      "│ name   ┆ birthdate  ┆ weight ┆ height │\n",
      "│ ---    ┆ ---        ┆ ---    ┆ ---    │\n",
      "│ str    ┆ date       ┆ i64    ┆ f64    │\n",
      "╞════════╪════════════╪════════╪════════╡\n",
      "│ Vamshi ┆ 2003-10-14 ┆ 50     ┆ 6.1    │\n",
      "│ Ajay   ┆ 2003-01-01 ┆ 60     ┆ 6.0    │\n",
      "│ Mahesh ┆ 2003-01-01 ┆ 70     ┆ 5.9    │\n",
      "│ Yatish ┆ 2003-01-01 ┆ 80     ┆ 5.8    │\n",
      "└────────┴────────────┴────────┴────────┘\n",
      "shape: (4, 4)\n",
      "┌────────┬────────────┬────────┬────────┐\n",
      "│ name   ┆ birthdate  ┆ weight ┆ height │\n",
      "│ ---    ┆ ---        ┆ ---    ┆ ---    │\n",
      "│ str    ┆ date       ┆ i64    ┆ f64    │\n",
      "╞════════╪════════════╪════════╪════════╡\n",
      "│ Vamshi ┆ 2003-10-14 ┆ 50     ┆ 6.1    │\n",
      "│ Ajay   ┆ 2003-01-01 ┆ 60     ┆ 6.0    │\n",
      "│ Mahesh ┆ 2003-01-01 ┆ 70     ┆ 5.9    │\n",
      "│ Yatish ┆ 2003-01-01 ┆ 80     ┆ 5.8    │\n",
      "└────────┴────────────┴────────┴────────┘\n"
     ]
    }
   ],
   "source": [
    "import polars as pl \n",
    "import datetime as dt \n",
    "\n",
    "df=pl.DataFrame(\n",
    "    {\n",
    "    \"name\":[\"Vamshi\",\"Ajay\",\"Mahesh\",\"Yatish\"],\n",
    "    \"birthdate\":[\n",
    "        dt.date(2003,10,14),\n",
    "        dt.date(2003,1,1),\n",
    "        dt.date(2003,1,1),\n",
    "        dt.date(2003,1,1),\n",
    "    ],\n",
    "    \"weight\":[50,60,70,80],\n",
    "    \"height\":[6.1,6.0,5.9,5.8]\n",
    "    }\n",
    ")\n",
    "\n",
    "print(df)\n",
    "\n",
    "df.write_csv(\"outputs/output-basic.csv\")\n",
    "df_csv=pl.read_csv(\"outputs/output-basic.csv\",try_parse_dates=True) \n",
    "print(df_csv)"
   ]
  },
  {
   "cell_type": "code",
   "execution_count": 32,
   "metadata": {},
   "outputs": [
    {
     "name": "stdout",
     "output_type": "stream",
     "text": [
      "shape: (4, 3)\n",
      "┌────────┬────────────┬──────────┐\n",
      "│ name   ┆ birth_year ┆ bmi      │\n",
      "│ ---    ┆ ---        ┆ ---      │\n",
      "│ str    ┆ i32        ┆ f64      │\n",
      "╞════════╪════════════╪══════════╡\n",
      "│ Vamshi ┆ 2003       ┆ 1.343725 │\n",
      "│ Ajay   ┆ 2003       ┆ 1.666667 │\n",
      "│ Mahesh ┆ 2003       ┆ 2.010916 │\n",
      "│ Yatish ┆ 2003       ┆ 2.378121 │\n",
      "└────────┴────────────┴──────────┘\n"
     ]
    }
   ],
   "source": [
    "result=df.select(\n",
    "    pl.col(\"name\"),\n",
    "    pl.col(\"birthdate\").dt.year().alias(\"birth_year\"),\n",
    "    (pl.col(\"weight\")/(pl.col(\"height\")**2)).alias(\"bmi\"),\n",
    ")\n",
    "\n",
    "print(result)"
   ]
  },
  {
   "cell_type": "code",
   "execution_count": 33,
   "metadata": {},
   "outputs": [
    {
     "name": "stdout",
     "output_type": "stream",
     "text": [
      "shape: (4, 3)\n",
      "┌────────┬───────────┬───────────┐\n",
      "│ name   ┆ weight-5% ┆ height-5% │\n",
      "│ ---    ┆ ---       ┆ ---       │\n",
      "│ str    ┆ f64       ┆ f64       │\n",
      "╞════════╪═══════════╪═══════════╡\n",
      "│ Vamshi ┆ 47.5      ┆ 5.79      │\n",
      "│ Ajay   ┆ 57.0      ┆ 5.7       │\n",
      "│ Mahesh ┆ 66.5      ┆ 5.61      │\n",
      "│ Yatish ┆ 76.0      ┆ 5.51      │\n",
      "└────────┴───────────┴───────────┘\n"
     ]
    }
   ],
   "source": [
    "result = df.select(\n",
    "    pl.col(\"name\"),\n",
    "    (pl.col(\"weight\", \"height\") * 0.95).round(2).name.suffix(\"-5%\"),\n",
    ")\n",
    "print(result)"
   ]
  },
  {
   "cell_type": "code",
   "execution_count": 34,
   "metadata": {},
   "outputs": [
    {
     "name": "stdout",
     "output_type": "stream",
     "text": [
      "shape: (4, 5)\n",
      "┌────────┬────────────┬────────┬────────┬────────────┐\n",
      "│ name   ┆ birthdate  ┆ weight ┆ height ┆ birth_year │\n",
      "│ ---    ┆ ---        ┆ ---    ┆ ---    ┆ ---        │\n",
      "│ str    ┆ date       ┆ i64    ┆ f64    ┆ i32        │\n",
      "╞════════╪════════════╪════════╪════════╪════════════╡\n",
      "│ Vamshi ┆ 2003-10-14 ┆ 50     ┆ 6.1    ┆ 2003       │\n",
      "│ Ajay   ┆ 2003-01-01 ┆ 60     ┆ 6.0    ┆ 2003       │\n",
      "│ Mahesh ┆ 2003-01-01 ┆ 70     ┆ 5.9    ┆ 2003       │\n",
      "│ Yatish ┆ 2003-01-01 ┆ 80     ┆ 5.8    ┆ 2003       │\n",
      "└────────┴────────────┴────────┴────────┴────────────┘\n"
     ]
    }
   ],
   "source": [
    "result=df.with_columns(\n",
    "    birth_year=pl.col(\"birthdate\").dt.year()\n",
    ")\n",
    "print(result)"
   ]
  },
  {
   "cell_type": "code",
   "execution_count": 35,
   "metadata": {},
   "outputs": [
    {
     "name": "stdout",
     "output_type": "stream",
     "text": [
      "shape: (4, 4)\n",
      "┌────────┬────────────┬────────┬────────┐\n",
      "│ name   ┆ birthdate  ┆ weight ┆ height │\n",
      "│ ---    ┆ ---        ┆ ---    ┆ ---    │\n",
      "│ str    ┆ date       ┆ i64    ┆ f64    │\n",
      "╞════════╪════════════╪════════╪════════╡\n",
      "│ Vamshi ┆ 2003-10-14 ┆ 50     ┆ 6.1    │\n",
      "│ Ajay   ┆ 2003-01-01 ┆ 60     ┆ 6.0    │\n",
      "│ Mahesh ┆ 2003-01-01 ┆ 70     ┆ 5.9    │\n",
      "│ Yatish ┆ 2003-01-01 ┆ 80     ┆ 5.8    │\n",
      "└────────┴────────────┴────────┴────────┘\n"
     ]
    }
   ],
   "source": [
    "result=df.filter(pl.col(\"birthdate\").dt.year()==2003)\n",
    "print(result)"
   ]
  },
  {
   "cell_type": "code",
   "execution_count": 36,
   "metadata": {},
   "outputs": [
    {
     "name": "stdout",
     "output_type": "stream",
     "text": [
      "shape: (1, 2)\n",
      "┌────────┬─────┐\n",
      "│ decade ┆ len │\n",
      "│ ---    ┆ --- │\n",
      "│ i32    ┆ u32 │\n",
      "╞════════╪═════╡\n",
      "│ 2000   ┆ 4   │\n",
      "└────────┴─────┘\n"
     ]
    }
   ],
   "source": [
    "result=df.group_by(\n",
    "    (pl.col(\"birthdate\").dt.year()//10 * 10).alias(\"decade\"),\n",
    "    maintain_order=True\n",
    ").len() \n",
    "print(result)"
   ]
  },
  {
   "cell_type": "code",
   "execution_count": 37,
   "metadata": {},
   "outputs": [
    {
     "name": "stdout",
     "output_type": "stream",
     "text": [
      "shape: (1, 4)\n",
      "┌────────┬─────────────┬────────────┬─────────┐\n",
      "│ decade ┆ sample_size ┆ avg_weight ┆ tallest │\n",
      "│ ---    ┆ ---         ┆ ---        ┆ ---     │\n",
      "│ i32    ┆ u32         ┆ f64        ┆ f64     │\n",
      "╞════════╪═════════════╪════════════╪═════════╡\n",
      "│ 2000   ┆ 4           ┆ 65.0       ┆ 6.1     │\n",
      "└────────┴─────────────┴────────────┴─────────┘\n"
     ]
    }
   ],
   "source": [
    "result = df.group_by(\n",
    "    (pl.col(\"birthdate\").dt.year() // 10 * 10).alias(\"decade\"),\n",
    "    maintain_order=True,\n",
    ").agg(\n",
    "    pl.len().alias(\"sample_size\"),\n",
    "    pl.col(\"weight\").mean().round(2).alias(\"avg_weight\"),\n",
    "    pl.col(\"height\").max().alias(\"tallest\"),\n",
    ")\n",
    "print(result)"
   ]
  },
  {
   "cell_type": "code",
   "execution_count": 38,
   "metadata": {},
   "outputs": [
    {
     "name": "stdout",
     "output_type": "stream",
     "text": [
      "shape: (1, 4)\n",
      "┌────────┬────────────────────────────────┬────────────┬────────────┐\n",
      "│ decade ┆ name                           ┆ avg_weight ┆ avg_height │\n",
      "│ ---    ┆ ---                            ┆ ---        ┆ ---        │\n",
      "│ i32    ┆ list[str]                      ┆ f64        ┆ f64        │\n",
      "╞════════╪════════════════════════════════╪════════════╪════════════╡\n",
      "│ 2000   ┆ [\"Vamshi\", \"Ajay\", … \"Yatish\"] ┆ 65.0       ┆ 5.95       │\n",
      "└────────┴────────────────────────────────┴────────────┴────────────┘\n"
     ]
    }
   ],
   "source": [
    "result = (\n",
    "    df.with_columns(\n",
    "        (pl.col(\"birthdate\").dt.year() // 10 * 10).alias(\"decade\"),\n",
    "        pl.col(\"name\").str.split(by=\" \").list.first(),\n",
    "    )\n",
    "    .select(\n",
    "        pl.all().exclude(\"birthdate\"),\n",
    "    )\n",
    "    .group_by(\n",
    "        pl.col(\"decade\"),\n",
    "        maintain_order=True,\n",
    "    )\n",
    "    .agg(\n",
    "        pl.col(\"name\"),\n",
    "        pl.col(\"weight\", \"height\").mean().round(2).name.prefix(\"avg_\"),\n",
    "    )\n",
    ")\n",
    "print(result)"
   ]
  },
  {
   "cell_type": "code",
   "execution_count": 39,
   "metadata": {},
   "outputs": [
    {
     "name": "stdout",
     "output_type": "stream",
     "text": [
      "shape: (4, 5)\n",
      "┌────────┬────────────┬────────┬────────┬──────────┐\n",
      "│ name   ┆ birthdate  ┆ weight ┆ height ┆ siblings │\n",
      "│ ---    ┆ ---        ┆ ---    ┆ ---    ┆ ---      │\n",
      "│ str    ┆ date       ┆ i64    ┆ f64    ┆ i64      │\n",
      "╞════════╪════════════╪════════╪════════╪══════════╡\n",
      "│ Vamshi ┆ 2003-10-14 ┆ 50     ┆ 6.1    ┆ 1        │\n",
      "│ Ajay   ┆ 2003-01-01 ┆ 60     ┆ 6.0    ┆ 2        │\n",
      "│ Mahesh ┆ 2003-01-01 ┆ 70     ┆ 5.9    ┆ 4        │\n",
      "│ Yatish ┆ 2003-01-01 ┆ 80     ┆ 5.8    ┆ 3        │\n",
      "└────────┴────────────┴────────┴────────┴──────────┘\n"
     ]
    }
   ],
   "source": [
    "df2=pl.DataFrame({\n",
    "    \"name\":[\"Vamshi\",\"Ajay\",\"Yatish\",\"Mahesh\"],\n",
    "    \"siblings\":[1,2,3,4],\n",
    "})\n",
    "\n",
    "print(df.join(df2,on=\"name\",how=\"left\"))"
   ]
  },
  {
   "cell_type": "code",
   "execution_count": 40,
   "metadata": {},
   "outputs": [
    {
     "name": "stdout",
     "output_type": "stream",
     "text": [
      "shape: (4, 5)\n",
      "┌────────────┬────────┬────────┬────────┬──────────┐\n",
      "│ birthdate  ┆ weight ┆ height ┆ name   ┆ siblings │\n",
      "│ ---        ┆ ---    ┆ ---    ┆ ---    ┆ ---      │\n",
      "│ date       ┆ i64    ┆ f64    ┆ str    ┆ i64      │\n",
      "╞════════════╪════════╪════════╪════════╪══════════╡\n",
      "│ 2003-10-14 ┆ 50     ┆ 6.1    ┆ Vamshi ┆ 1        │\n",
      "│ 2003-01-01 ┆ 60     ┆ 6.0    ┆ Ajay   ┆ 2        │\n",
      "│ 2003-01-01 ┆ 80     ┆ 5.8    ┆ Yatish ┆ 3        │\n",
      "│ 2003-01-01 ┆ 70     ┆ 5.9    ┆ Mahesh ┆ 4        │\n",
      "└────────────┴────────┴────────┴────────┴──────────┘\n"
     ]
    }
   ],
   "source": [
    "df2=pl.DataFrame({\n",
    "    \"name\":[\"Vamshi\",\"Ajay\",\"Yatish\",\"Mahesh\"],\n",
    "    \"siblings\":[1,2,3,4],\n",
    "})\n",
    "\n",
    "print(df.join(df2,on=\"name\",how=\"right\"))"
   ]
  },
  {
   "cell_type": "code",
   "execution_count": 41,
   "metadata": {},
   "outputs": [
    {
     "name": "stdout",
     "output_type": "stream",
     "text": [
      "shape: (8, 4)\n",
      "┌───────────────┬────────────┬────────┬────────┐\n",
      "│ name          ┆ birthdate  ┆ weight ┆ height │\n",
      "│ ---           ┆ ---        ┆ ---    ┆ ---    │\n",
      "│ str           ┆ date       ┆ i64    ┆ f64    │\n",
      "╞═══════════════╪════════════╪════════╪════════╡\n",
      "│ Vamshi        ┆ 2003-10-14 ┆ 50     ┆ 6.1    │\n",
      "│ Ajay          ┆ 2003-01-01 ┆ 60     ┆ 6.0    │\n",
      "│ Mahesh        ┆ 2003-01-01 ┆ 70     ┆ 5.9    │\n",
      "│ Yatish        ┆ 2003-01-01 ┆ 80     ┆ 5.8    │\n",
      "│ Ethan Edwards ┆ 1977-05-10 ┆ 67     ┆ 1.76   │\n",
      "│ Fiona Foster  ┆ 1975-06-23 ┆ 72     ┆ 1.6    │\n",
      "│ Grace Gibson  ┆ 1973-07-22 ┆ 57     ┆ 1.66   │\n",
      "│ Henry Harris  ┆ 1971-08-03 ┆ 93     ┆ 1.8    │\n",
      "└───────────────┴────────────┴────────┴────────┘\n"
     ]
    }
   ],
   "source": [
    "df3 = pl.DataFrame(\n",
    "    {\n",
    "        \"name\": [\"Ethan Edwards\", \"Fiona Foster\", \"Grace Gibson\", \"Henry Harris\"],\n",
    "        \"birthdate\": [\n",
    "            dt.date(1977, 5, 10),\n",
    "            dt.date(1975, 6, 23),\n",
    "            dt.date(1973, 7, 22),\n",
    "            dt.date(1971, 8, 3),\n",
    "        ],\n",
    "        \"weight\": [67, 72, 57, 93],  # (kg)\n",
    "        \"height\": [1.76, 1.6, 1.66, 1.8],  # (m)\n",
    "    }\n",
    ")\n",
    "\n",
    "print(pl.concat([df, df3], how=\"vertical\"))"
   ]
  },
  {
   "cell_type": "code",
   "execution_count": 42,
   "metadata": {},
   "outputs": [
    {
     "name": "stdout",
     "output_type": "stream",
     "text": [
      "shape: (5,)\n",
      "Series: 'ints' [i64]\n",
      "[\n",
      "\t1\n",
      "\t2\n",
      "\t3\n",
      "\t4\n",
      "\t5\n",
      "]\n"
     ]
    }
   ],
   "source": [
    "s=pl.Series(\"ints\",[1,2,3,4,5])\n",
    "print(s)"
   ]
  },
  {
   "cell_type": "code",
   "execution_count": 43,
   "metadata": {},
   "outputs": [
    {
     "name": "stdout",
     "output_type": "stream",
     "text": [
      "shape: (3, 4)\n",
      "┌────────┬────────────┬────────┬────────┐\n",
      "│ name   ┆ birthdate  ┆ weight ┆ height │\n",
      "│ ---    ┆ ---        ┆ ---    ┆ ---    │\n",
      "│ str    ┆ date       ┆ i64    ┆ f64    │\n",
      "╞════════╪════════════╪════════╪════════╡\n",
      "│ Vamshi ┆ 2003-10-14 ┆ 50     ┆ 6.1    │\n",
      "│ Ajay   ┆ 2003-01-01 ┆ 60     ┆ 6.0    │\n",
      "│ Mahesh ┆ 2003-01-01 ┆ 70     ┆ 5.9    │\n",
      "└────────┴────────────┴────────┴────────┘\n"
     ]
    }
   ],
   "source": [
    "print(df.head(3))"
   ]
  },
  {
   "cell_type": "code",
   "execution_count": 44,
   "metadata": {},
   "outputs": [
    {
     "name": "stdout",
     "output_type": "stream",
     "text": [
      "shape: (3, 4)\n",
      "┌────────┬────────────┬────────┬────────┐\n",
      "│ name   ┆ birthdate  ┆ weight ┆ height │\n",
      "│ ---    ┆ ---        ┆ ---    ┆ ---    │\n",
      "│ str    ┆ date       ┆ i64    ┆ f64    │\n",
      "╞════════╪════════════╪════════╪════════╡\n",
      "│ Ajay   ┆ 2003-01-01 ┆ 60     ┆ 6.0    │\n",
      "│ Mahesh ┆ 2003-01-01 ┆ 70     ┆ 5.9    │\n",
      "│ Yatish ┆ 2003-01-01 ┆ 80     ┆ 5.8    │\n",
      "└────────┴────────────┴────────┴────────┘\n"
     ]
    }
   ],
   "source": [
    "print(df.tail(3))"
   ]
  },
  {
   "cell_type": "code",
   "execution_count": 45,
   "metadata": {},
   "outputs": [
    {
     "name": "stdout",
     "output_type": "stream",
     "text": [
      "Rows: 4\n",
      "Columns: 4\n",
      "$ name       <str> 'Vamshi', 'Ajay', 'Mahesh', 'Yatish'\n",
      "$ birthdate <date> 2003-10-14, 2003-01-01, 2003-01-01, 2003-01-01\n",
      "$ weight     <i64> 50, 60, 70, 80\n",
      "$ height     <f64> 6.1, 6.0, 5.9, 5.8\n",
      "\n"
     ]
    }
   ],
   "source": [
    "print(df.glimpse(return_as_string=True))"
   ]
  },
  {
   "cell_type": "code",
   "execution_count": 46,
   "metadata": {},
   "outputs": [
    {
     "name": "stdout",
     "output_type": "stream",
     "text": [
      "shape: (3, 4)\n",
      "┌────────┬────────────┬────────┬────────┐\n",
      "│ name   ┆ birthdate  ┆ weight ┆ height │\n",
      "│ ---    ┆ ---        ┆ ---    ┆ ---    │\n",
      "│ str    ┆ date       ┆ i64    ┆ f64    │\n",
      "╞════════╪════════════╪════════╪════════╡\n",
      "│ Mahesh ┆ 2003-01-01 ┆ 70     ┆ 5.9    │\n",
      "│ Ajay   ┆ 2003-01-01 ┆ 60     ┆ 6.0    │\n",
      "│ Vamshi ┆ 2003-10-14 ┆ 50     ┆ 6.1    │\n",
      "└────────┴────────────┴────────┴────────┘\n"
     ]
    }
   ],
   "source": [
    "import random \n",
    "random.seed(42) \n",
    "print(df.sample(3))"
   ]
  },
  {
   "cell_type": "code",
   "execution_count": 47,
   "metadata": {},
   "outputs": [
    {
     "name": "stdout",
     "output_type": "stream",
     "text": [
      "shape: (9, 5)\n",
      "┌────────────┬────────┬─────────────────────┬───────────┬──────────┐\n",
      "│ statistic  ┆ name   ┆ birthdate           ┆ weight    ┆ height   │\n",
      "│ ---        ┆ ---    ┆ ---                 ┆ ---       ┆ ---      │\n",
      "│ str        ┆ str    ┆ str                 ┆ f64       ┆ f64      │\n",
      "╞════════════╪════════╪═════════════════════╪═══════════╪══════════╡\n",
      "│ count      ┆ 4      ┆ 4                   ┆ 4.0       ┆ 4.0      │\n",
      "│ null_count ┆ 0      ┆ 0                   ┆ 0.0       ┆ 0.0      │\n",
      "│ mean       ┆ null   ┆ 2003-03-13 12:00:00 ┆ 65.0      ┆ 5.95     │\n",
      "│ std        ┆ null   ┆ null                ┆ 12.909944 ┆ 0.129099 │\n",
      "│ min        ┆ Ajay   ┆ 2003-01-01          ┆ 50.0      ┆ 5.8      │\n",
      "│ 25%        ┆ null   ┆ 2003-01-01          ┆ 60.0      ┆ 5.9      │\n",
      "│ 50%        ┆ null   ┆ 2003-01-01          ┆ 70.0      ┆ 6.0      │\n",
      "│ 75%        ┆ null   ┆ 2003-01-01          ┆ 70.0      ┆ 6.0      │\n",
      "│ max        ┆ Yatish ┆ 2003-10-14          ┆ 80.0      ┆ 6.1      │\n",
      "└────────────┴────────┴─────────────────────┴───────────┴──────────┘\n"
     ]
    }
   ],
   "source": [
    "print(df.describe())"
   ]
  },
  {
   "cell_type": "code",
   "execution_count": 48,
   "metadata": {},
   "outputs": [
    {
     "name": "stdout",
     "output_type": "stream",
     "text": [
      "Schema({'name': String, 'birthdate': Date, 'weight': Int64, 'height': Float64})\n"
     ]
    }
   ],
   "source": [
    "print(df.schema)"
   ]
  },
  {
   "cell_type": "code",
   "execution_count": 49,
   "metadata": {},
   "outputs": [
    {
     "name": "stdout",
     "output_type": "stream",
     "text": [
      " SELECT [[(col(\"float_1\")) * (1.1)].alias(\"float_1*1.1\"), [(col(\"float_2\")) * (1.1)].alias(\"float_2*1.1\"), [(col(\"float_3\")) * (1.1)].alias(\"float_3*1.1\")] FROM\n",
      "  DF [\"int_1\", \"int_2\", \"float_1\", \"float_2\"]; PROJECT 3/5 COLUMNS\n"
     ]
    }
   ],
   "source": [
    "schema = pl.Schema(\n",
    "    {\n",
    "        \"int_1\": pl.Int16,\n",
    "        \"int_2\": pl.Int32,\n",
    "        \"float_1\": pl.Float64,\n",
    "        \"float_2\": pl.Float64,\n",
    "        \"float_3\": pl.Float64,\n",
    "    }\n",
    ")\n",
    "\n",
    "print(\n",
    "    pl.LazyFrame(schema=schema)\n",
    "    .select((pl.col(pl.Float64) * 1.1).name.suffix(\"*1.1\"))\n",
    "    .explain()\n",
    ")"
   ]
  },
  {
   "cell_type": "code",
   "execution_count": 50,
   "metadata": {},
   "outputs": [
    {
     "name": "stdout",
     "output_type": "stream",
     "text": [
      "shape: (5, 4)\n",
      "┌──────┬───────┬──────────┬────────┐\n",
      "│ nrs  ┆ names ┆ random   ┆ groups │\n",
      "│ ---  ┆ ---   ┆ ---      ┆ ---    │\n",
      "│ i64  ┆ str   ┆ f64      ┆ str    │\n",
      "╞══════╪═══════╪══════════╪════════╡\n",
      "│ 1    ┆ foo   ┆ 0.37454  ┆ A      │\n",
      "│ 2    ┆ ham   ┆ 0.950714 ┆ A      │\n",
      "│ 3    ┆ spam  ┆ 0.731994 ┆ B      │\n",
      "│ null ┆ egg   ┆ 0.598658 ┆ A      │\n",
      "│ 5    ┆ spam  ┆ 0.156019 ┆ B      │\n",
      "└──────┴───────┴──────────┴────────┘\n"
     ]
    }
   ],
   "source": [
    "import polars as pl\n",
    "import numpy as np\n",
    "\n",
    "np.random.seed(42)  # For reproducibility.\n",
    "\n",
    "df = pl.DataFrame(\n",
    "    {\n",
    "        \"nrs\": [1, 2, 3, None, 5],\n",
    "        \"names\": [\"foo\", \"ham\", \"spam\", \"egg\", \"spam\"],\n",
    "        \"random\": list(np.random.rand(5)),\n",
    "        \"groups\": [\"A\", \"A\", \"B\", \"A\", \"B\"],\n",
    "    }\n",
    ")\n",
    "print(df)"
   ]
  },
  {
   "cell_type": "code",
   "execution_count": 51,
   "metadata": {},
   "outputs": [],
   "source": [
    "result=df.select(\n",
    "    (pl.col(\"random\")+10).alias(\"random+10\"),\n",
    "    (pl.col(\"nrs\")*(pl.col(\"random\"))*100).alias(\"nrs*random*100\")\n",
    ")"
   ]
  },
  {
   "cell_type": "code",
   "execution_count": 52,
   "metadata": {},
   "outputs": [
    {
     "name": "stdout",
     "output_type": "stream",
     "text": [
      "shape: (5, 2)\n",
      "┌───────────┬────────────────┐\n",
      "│ random+10 ┆ nrs*random*100 │\n",
      "│ ---       ┆ ---            │\n",
      "│ f64       ┆ f64            │\n",
      "╞═══════════╪════════════════╡\n",
      "│ 10.37454  ┆ 37.454012      │\n",
      "│ 10.950714 ┆ 190.142861     │\n",
      "│ 10.731994 ┆ 219.598183     │\n",
      "│ 10.598658 ┆ null           │\n",
      "│ 10.156019 ┆ 78.00932       │\n",
      "└───────────┴────────────────┘\n"
     ]
    }
   ],
   "source": [
    "print(result)"
   ]
  },
  {
   "cell_type": "code",
   "execution_count": 53,
   "metadata": {},
   "outputs": [
    {
     "name": "stdout",
     "output_type": "stream",
     "text": [
      "shape: (5, 6)\n",
      "┌─────────┬──────────┬─────────────┬──────────────┬──────────┬──────────┐\n",
      "│ nrs > 1 ┆ nrs >= 3 ┆ random < .2 ┆ random <= .5 ┆ nrs != 1 ┆ nrs == 1 │\n",
      "│ ---     ┆ ---      ┆ ---         ┆ ---          ┆ ---      ┆ ---      │\n",
      "│ bool    ┆ bool     ┆ bool        ┆ bool         ┆ bool     ┆ bool     │\n",
      "╞═════════╪══════════╪═════════════╪══════════════╪══════════╪══════════╡\n",
      "│ false   ┆ false    ┆ false       ┆ true         ┆ false    ┆ true     │\n",
      "│ true    ┆ false    ┆ false       ┆ false        ┆ true     ┆ false    │\n",
      "│ true    ┆ true     ┆ false       ┆ false        ┆ true     ┆ false    │\n",
      "│ null    ┆ null     ┆ false       ┆ false        ┆ null     ┆ null     │\n",
      "│ true    ┆ true     ┆ true        ┆ true         ┆ true     ┆ false    │\n",
      "└─────────┴──────────┴─────────────┴──────────────┴──────────┴──────────┘\n"
     ]
    }
   ],
   "source": [
    "result = df.select(\n",
    "    (pl.col(\"nrs\") > 1).alias(\"nrs > 1\"),  # .gt\n",
    "    (pl.col(\"nrs\") >= 3).alias(\"nrs >= 3\"),  # ge\n",
    "    (pl.col(\"random\") < 0.2).alias(\"random < .2\"),  # .lt\n",
    "    (pl.col(\"random\") <= 0.5).alias(\"random <= .5\"),  # .le\n",
    "    (pl.col(\"nrs\") != 1).alias(\"nrs != 1\"),  # .ne\n",
    "    (pl.col(\"nrs\") == 1).alias(\"nrs == 1\"),  # .eq\n",
    ")\n",
    "print(result)"
   ]
  },
  {
   "cell_type": "code",
   "execution_count": 54,
   "metadata": {},
   "outputs": [
    {
     "name": "stdout",
     "output_type": "stream",
     "text": [
      "shape: (5, 1)\n",
      "┌─────────────────────────────┐\n",
      "│ number not null and group A │\n",
      "│ ---                         │\n",
      "│ bool                        │\n",
      "╞═════════════════════════════╡\n",
      "│ true                        │\n",
      "│ true                        │\n",
      "│ false                       │\n",
      "│ false                       │\n",
      "│ false                       │\n",
      "└─────────────────────────────┘\n"
     ]
    }
   ],
   "source": [
    "result=df.select(\n",
    "    ((~pl.col(\"nrs\").is_null()) & (pl.col(\"groups\")==\"A\")).alias(\n",
    "        \"number not null and group A\"\n",
    "    )\n",
    ")\n",
    "print(result)"
   ]
  },
  {
   "cell_type": "code",
   "execution_count": 58,
   "metadata": {},
   "outputs": [
    {
     "name": "stdout",
     "output_type": "stream",
     "text": [
      "shape: (5, 1)\n",
      "┌─────┐\n",
      "│ num │\n",
      "│ --- │\n",
      "│ i64 │\n",
      "╞═════╡\n",
      "│ 1   │\n",
      "│ 2   │\n",
      "│ 3   │\n",
      "│ 4   │\n",
      "│ 5   │\n",
      "└─────┘\n"
     ]
    }
   ],
   "source": [
    "df=pl.DataFrame({\n",
    "    \"num\":[1,2,3,4,5]\n",
    "})\n",
    "print(df)"
   ]
  },
  {
   "cell_type": "code",
   "execution_count": 60,
   "metadata": {},
   "outputs": [
    {
     "name": "stdout",
     "output_type": "stream",
     "text": [
      "['num']\n"
     ]
    }
   ],
   "source": [
    "print(df.columns)"
   ]
  },
  {
   "cell_type": "code",
   "execution_count": null,
   "metadata": {},
   "outputs": [],
   "source": []
  }
 ],
 "metadata": {
  "kernelspec": {
   "display_name": "Python 3",
   "language": "python",
   "name": "python3"
  },
  "language_info": {
   "codemirror_mode": {
    "name": "ipython",
    "version": 3
   },
   "file_extension": ".py",
   "mimetype": "text/x-python",
   "name": "python",
   "nbconvert_exporter": "python",
   "pygments_lexer": "ipython3",
   "version": "3.13.1"
  }
 },
 "nbformat": 4,
 "nbformat_minor": 2
}
