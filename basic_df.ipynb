import polars as pl 
import datetime as dt 

df=pl.DataFrame(
    {
    "name":["Vamshi","Ajay","Mahesh","Yatish"],
    "birthdate":[
        dt.date(2003,10,14),
        dt.date(2003,1,1),
        dt.date(2003,1,1),
        dt.date(2003,1,1),
    ],
    "weight":[50,60,70,80],
    "height":[6.1,6.0,5.9,5.8]
    }
)

print(df)

df.write_csv("outputs/output-basic.csv")
df_csv=pl.read_csv("outputs/output-basic.csv",try_parse_dates=True) 
print(df_csv)